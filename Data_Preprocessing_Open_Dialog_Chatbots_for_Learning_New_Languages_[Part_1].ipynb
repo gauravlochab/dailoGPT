{
  "nbformat": 4,
  "nbformat_minor": 0,
  "metadata": {
    "colab": {
      "provenance": [],
      "include_colab_link": true
    },
    "kernelspec": {
      "name": "python2",
      "display_name": "Python 2"
    }
  },
  "cells": [
    {
      "cell_type": "markdown",
      "metadata": {
        "id": "view-in-github",
        "colab_type": "text"
      },
      "source": [
        "<a href=\"https://colab.research.google.com/github/gauravlochab/dailoGPT/blob/main/Data_Preprocessing_Open_Dialog_Chatbots_for_Learning_New_Languages_%5BPart_1%5D.ipynb\" target=\"_parent\"><img src=\"https://colab.research.google.com/assets/colab-badge.svg\" alt=\"Open In Colab\"/></a>"
      ]
    },
    {
      "cell_type": "code",
      "metadata": {
        "id": "deaacv4XfLMk",
        "colab": {
          "base_uri": "https://localhost:8080/"
        },
        "outputId": "d33ace28-c728-4b4e-c74e-cc1f87cf5dba"
      },
      "source": [
        "! wget -q -O es.txt.gz http://opus.nlpl.eu/download.php?f=OpenSubtitles/v2018/mono/OpenSubtitles.es.gz\n",
        "! gunzip -k es.txt.gz\n",
        "! mkdir lines\n",
        "! split -a 3 -l 100000 es.txt lines/lines-\n",
        "\n",
        "! git clone https://github.com/PolyAI-LDN/conversational-datasets.git\n",
        "! pip install -q -r conversational-datasets/requirements.txt"
      ],
      "execution_count": null,
      "outputs": [
        {
          "output_type": "stream",
          "text": [
            "Cloning into 'conversational-datasets'...\n",
            "remote: Enumerating objects: 367, done.\u001b[K\n",
            "remote: Total 367 (delta 0), reused 0 (delta 0), pack-reused 367\u001b[K\n",
            "Receiving objects: 100% (367/367), 185.06 KiB | 5.00 MiB/s, done.\n",
            "Resolving deltas: 100% (227/227), done.\n",
            "\u001b[K     |████████████████████████████████| 102kB 4.1MB/s \n",
            "\u001b[K     |████████████████████████████████| 2.2MB 19.4MB/s \n",
            "\u001b[K     |████████████████████████████████| 51kB 5.9MB/s \n",
            "\u001b[K     |████████████████████████████████| 71kB 7.0MB/s \n",
            "\u001b[K     |████████████████████████████████| 163kB 34.1MB/s \n",
            "\u001b[K     |████████████████████████████████| 92kB 8.6MB/s \n",
            "\u001b[K     |████████████████████████████████| 71kB 6.9MB/s \n",
            "\u001b[K     |████████████████████████████████| 829kB 42.4MB/s \n",
            "\u001b[K     |████████████████████████████████| 337kB 45.0MB/s \n",
            "\u001b[K     |████████████████████████████████| 81kB 7.0MB/s \n",
            "\u001b[K     |████████████████████████████████| 51kB 5.2MB/s \n",
            "\u001b[K     |████████████████████████████████| 61kB 4.9MB/s \n",
            "\u001b[K     |████████████████████████████████| 51kB 4.5MB/s \n",
            "\u001b[K     |████████████████████████████████| 10.7MB 18.1MB/s \n",
            "\u001b[K     |████████████████████████████████| 2.8MB 59.3MB/s \n",
            "\u001b[K     |████████████████████████████████| 215kB 37.8MB/s \n",
            "\u001b[K     |████████████████████████████████| 51kB 4.5MB/s \n",
            "\u001b[K     |████████████████████████████████| 61kB 6.1MB/s \n",
            "\u001b[K     |████████████████████████████████| 61kB 6.2MB/s \n",
            "\u001b[K     |████████████████████████████████| 92kB 7.9MB/s \n",
            "\u001b[K     |████████████████████████████████| 17.0MB 203kB/s \n",
            "\u001b[K     |████████████████████████████████| 112kB 67.9MB/s \n",
            "\u001b[K     |████████████████████████████████| 163kB 61.8MB/s \n",
            "\u001b[K     |████████████████████████████████| 1.2MB 37.5MB/s \n",
            "\u001b[K     |████████████████████████████████| 71kB 6.8MB/s \n",
            "\u001b[K     |████████████████████████████████| 51kB 4.8MB/s \n",
            "\u001b[K     |████████████████████████████████| 61kB 6.6MB/s \n",
            "\u001b[K     |████████████████████████████████| 61kB 6.0MB/s \n",
            "\u001b[K     |████████████████████████████████| 266kB 57.5MB/s \n",
            "\u001b[K     |████████████████████████████████| 61kB 6.1MB/s \n",
            "\u001b[K     |████████████████████████████████| 24.8MB 70.0MB/s \n",
            "\u001b[K     |████████████████████████████████| 3.2MB 35.2MB/s \n",
            "\u001b[K     |████████████████████████████████| 109.2MB 81kB/s \n",
            "\u001b[K     |████████████████████████████████| 491kB 51.5MB/s \n",
            "\u001b[K     |████████████████████████████████| 81kB 9.1MB/s \n",
            "\u001b[K     |████████████████████████████████| 6.2MB 33.9MB/s \n",
            "\u001b[K     |████████████████████████████████| 2.7MB 52.2MB/s \n",
            "\u001b[K     |████████████████████████████████| 51kB 5.9MB/s \n",
            "\u001b[K     |████████████████████████████████| 122kB 52.8MB/s \n",
            "\u001b[K     |████████████████████████████████| 327kB 58.7MB/s \n",
            "\u001b[?25h  Building wheel for absl-py (setup.py) ... \u001b[?25l\u001b[?25hdone\n",
            "  Building wheel for avro (setup.py) ... \u001b[?25l\u001b[?25hdone\n",
            "  Building wheel for dill (setup.py) ... \u001b[?25l\u001b[?25hdone\n",
            "  Building wheel for docopt (setup.py) ... \u001b[?25l\u001b[?25hdone\n",
            "  Building wheel for future (setup.py) ... \u001b[?25l\u001b[?25hdone\n",
            "  Building wheel for gapic-google-cloud-pubsub-v1 (setup.py) ... \u001b[?25l\u001b[?25hdone\n",
            "  Building wheel for google-cloud-dataflow (setup.py) ... \u001b[?25l\u001b[?25hdone\n",
            "  Building wheel for googleapis-common-protos (setup.py) ... \u001b[?25l\u001b[?25hdone\n",
            "  Building wheel for googledatastore (setup.py) ... \u001b[?25l\u001b[?25hdone\n",
            "  Building wheel for grpc-google-iam-v1 (setup.py) ... \u001b[?25l\u001b[?25hdone\n",
            "  Building wheel for hdfs (setup.py) ... \u001b[?25l\u001b[?25hdone\n",
            "  Building wheel for httplib2 (setup.py) ... \u001b[?25l\u001b[?25hdone\n",
            "  Building wheel for ply (setup.py) ... \u001b[?25l\u001b[?25hdone\n",
            "  Building wheel for proto-google-cloud-datastore-v1 (setup.py) ... \u001b[?25l\u001b[?25hdone\n",
            "  Building wheel for proto-google-cloud-pubsub-v1 (setup.py) ... \u001b[?25l\u001b[?25hdone\n",
            "  Building wheel for python-gflags (setup.py) ... \u001b[?25l\u001b[?25hdone\n",
            "  Building wheel for PyVCF (setup.py) ... \u001b[?25l\u001b[?25hdone\n",
            "  Building wheel for PyYAML (setup.py) ... \u001b[?25l\u001b[?25hdone\n",
            "\u001b[31mERROR: google-colab 1.0.0 has requirement astor~=0.8.1, but you'll have astor 0.7.1 which is incompatible.\u001b[0m\n",
            "\u001b[31mERROR: google-colab 1.0.0 has requirement google-auth~=1.17.2, but you'll have google-auth 1.6.3 which is incompatible.\u001b[0m\n",
            "\u001b[31mERROR: google-colab 1.0.0 has requirement requests~=2.23.0, but you'll have requests 2.21.0 which is incompatible.\u001b[0m\n",
            "\u001b[31mERROR: google-colab 1.0.0 has requirement six~=1.15.0, but you'll have six 1.12.0 which is incompatible.\u001b[0m\n",
            "\u001b[31mERROR: multiprocess 0.70.8 has requirement dill>=0.3.0, but you'll have dill 0.2.6 which is incompatible.\u001b[0m\n",
            "\u001b[31mERROR: albumentations 0.1.12 has requirement imgaug<0.2.7,>=0.2.5, but you'll have imgaug 0.2.9 which is incompatible.\u001b[0m\n",
            "\u001b[31mERROR: google-cloud-storage 1.16.1 has requirement google-cloud-core<2.0dev,>=1.0.0, but you'll have google-cloud-core 0.25.0 which is incompatible.\u001b[0m\n",
            "\u001b[31mERROR: flask 1.1.1 has requirement Werkzeug>=0.15, but you'll have werkzeug 0.14.1 which is incompatible.\u001b[0m\n",
            "\u001b[31mERROR: pandas-gbq 0.4.1 has requirement google-cloud-bigquery>=0.29.0, but you'll have google-cloud-bigquery 0.25.0 which is incompatible.\u001b[0m\n",
            "\u001b[31mERROR: proto-google-cloud-pubsub-v1 0.15.4 has requirement oauth2client<4.0dev,>=2.0.0, but you'll have oauth2client 4.1.3 which is incompatible.\u001b[0m\n",
            "\u001b[31mERROR: google-cloud-translate 1.5.0 has requirement google-cloud-core<2.0dev,>=1.0.0, but you'll have google-cloud-core 0.25.0 which is incompatible.\u001b[0m\n",
            "\u001b[31mERROR: fastai 0.7.0 has requirement torch<0.4, but you'll have torch 1.4.0 which is incompatible.\u001b[0m\n",
            "\u001b[31mERROR: google-gax 0.15.16 has requirement future<0.17dev,>=0.16.0, but you'll have future 0.17.1 which is incompatible.\u001b[0m\n",
            "\u001b[31mERROR: apache-beam 2.5.0 has requirement pyyaml<4.0.0,>=3.12, but you'll have pyyaml 4.2b1 which is incompatible.\u001b[0m\n",
            "\u001b[31mERROR: apache-beam 2.5.0 has requirement six<1.12,>=1.9, but you'll have six 1.12.0 which is incompatible.\u001b[0m\n",
            "\u001b[31mERROR: proto-google-cloud-datastore-v1 0.90.4 has requirement oauth2client<4.0dev,>=2.0.0, but you'll have oauth2client 4.1.3 which is incompatible.\u001b[0m\n",
            "\u001b[31mERROR: googledatastore 7.0.1 has requirement oauth2client<4.0.0,>=2.0.1, but you'll have oauth2client 4.1.3 which is incompatible.\u001b[0m\n",
            "\u001b[31mERROR: gapic-google-cloud-pubsub-v1 0.15.4 has requirement oauth2client<4.0dev,>=2.0.0, but you'll have oauth2client 4.1.3 which is incompatible.\u001b[0m\n",
            "\u001b[31mERROR: google-cloud-datastore 1.8.0 has requirement google-cloud-core<2.0dev,>=1.0.0, but you'll have google-cloud-core 0.25.0 which is incompatible.\u001b[0m\n"
          ],
          "name": "stdout"
        }
      ]
    },
    {
      "cell_type": "code",
      "metadata": {
        "id": "w8BULIWnoHo1",
        "colab": {
          "base_uri": "https://localhost:8080/"
        },
        "outputId": "2dfbc1bc-1af2-47ab-cc00-9ab2ef4e6ea1"
      },
      "source": [
        "! python conversational-datasets/opensubtitles/create_data.py --runner DirectRunner --sentence_files lines/lines-* --output_dir output --dataset_format JSON"
      ],
      "execution_count": null,
      "outputs": [
        {
          "output_type": "stream",
          "text": [
            "WARNING: Logging before flag parsing goes to stderr.\n",
            "I1206 20:57:44.893563 139684395251584 create_data.py:228] Reading 1 files from lines/lines-aaa.\n",
            "I1206 20:57:45.393484 139684395251584 fn_api_runner.py:839] ==================== <function annotate_downstream_side_inputs at 0x7f0aa07356d0> ====================\n",
            "I1206 20:57:45.395124 139684395251584 fn_api_runner.py:839] ==================== <function fix_side_input_pcoll_coders at 0x7f0aa0735250> ====================\n",
            "I1206 20:57:45.396891 139684395251584 fn_api_runner.py:839] ==================== <function lift_combiners at 0x7f0aa07357d0> ====================\n",
            "I1206 20:57:45.397186 139684395251584 fn_api_runner.py:839] ==================== <function expand_gbk at 0x7f0aa0735850> ====================\n",
            "I1206 20:57:45.398772 139684395251584 fn_api_runner.py:839] ==================== <function sink_flattens at 0x7f0aa0735550> ====================\n",
            "I1206 20:57:45.399060 139684395251584 fn_api_runner.py:839] ==================== <function greedily_fuse at 0x7f0aa07354d0> ====================\n",
            "I1206 20:57:45.403661 139684395251584 fn_api_runner.py:839] ==================== <function sort_stages at 0x7f0aa07352d0> ====================\n",
            "I1206 20:57:45.404299 139684395251584 fn_api_runner.py:905] Running (ref_AppliedPTransform_Create/Read_3)+((ref_AppliedPTransform_create examples_4)+((ref_AppliedPTransform_add random key_5)+(group by key/Write)))\n",
            "I1206 20:57:45.416932 139684395251584 bundle_processor.py:288] start <DataOutputOperation group by key/Write >\n",
            "I1206 20:57:45.417623 139684395251584 bundle_processor.py:288] start <DoOperation add random key output_tags=['out']>\n",
            "I1206 20:57:45.419538 139684395251584 bundle_processor.py:288] start <DoOperation create examples output_tags=['out']>\n",
            "I1206 20:57:45.420173 139684395251584 bundle_processor.py:288] start <ReadOperation Create/Read source=SourceBundle(weight=1.0, source=<apache_beam.transforms.core._CreateSource object at 0x7f0aa07221d0>, start_position=None, stop_position=None)>\n",
            "I1206 20:57:50.406112 139684395251584 bundle_processor.py:300] finish <ReadOperation Create/Read source=SourceBundle(weight=1.0, source=<apache_beam.transforms.core._CreateSource object at 0x7f0aa07221d0>, start_position=None, stop_position=None), receivers=[ConsumerSet[Create/Read.out0, coder=WindowedValueCoder[FastPrimitivesCoder], len(consumers)=1]]>\n",
            "I1206 20:57:50.406724 139684395251584 bundle_processor.py:300] finish <DoOperation create examples output_tags=['out'], receivers=[ConsumerSet[create examples.out0, coder=WindowedValueCoder[FastPrimitivesCoder], len(consumers)=1]]>\n",
            "I1206 20:57:50.406980 139684395251584 bundle_processor.py:300] finish <DoOperation add random key output_tags=['out'], receivers=[ConsumerSet[add random key.out0, coder=WindowedValueCoder[TupleCoder[LengthPrefixCoder[FastPrimitivesCoder], LengthPrefixCoder[FastPrimitivesCoder]]], len(consumers)=1]]>\n",
            "I1206 20:57:50.407181 139684395251584 bundle_processor.py:300] finish <DataOutputOperation group by key/Write >\n",
            "I1206 20:57:50.930677 139684395251584 fn_api_runner.py:905] Running ((((group by key/Read)+((ref_AppliedPTransform_get shuffled values_10)+(ref_AppliedPTransform_split train and test/ParDo(_TrainTestSplitFn)_12)))+(ref_AppliedPTransform_serialize test examples_29))+((ref_AppliedPTransform_serialize train examples_13)+((ref_AppliedPTransform_write train/Write/WriteImpl/ParDo(_RoundRobinKeyFn)_20)+((ref_AppliedPTransform_write train/Write/WriteImpl/WindowInto(WindowIntoFn)_21)+(write train/Write/WriteImpl/GroupByKey/Write)))))+((ref_AppliedPTransform_write test/Write/WriteImpl/ParDo(_RoundRobinKeyFn)_36)+((ref_AppliedPTransform_write test/Write/WriteImpl/WindowInto(WindowIntoFn)_37)+(write test/Write/WriteImpl/GroupByKey/Write)))\n",
            "I1206 20:57:51.590845 139684395251584 bundle_processor.py:288] start <DataOutputOperation write train/Write/WriteImpl/GroupByKey/Write >\n",
            "I1206 20:57:51.591084 139684395251584 bundle_processor.py:288] start <DataOutputOperation write test/Write/WriteImpl/GroupByKey/Write >\n",
            "I1206 20:57:51.591186 139684395251584 bundle_processor.py:288] start <DoOperation write train/Write/WriteImpl/WindowInto(WindowIntoFn) output_tags=['out']>\n",
            "I1206 20:57:51.592067 139684395251584 bundle_processor.py:288] start <DoOperation write test/Write/WriteImpl/WindowInto(WindowIntoFn) output_tags=['out']>\n",
            "I1206 20:57:51.592839 139684395251584 bundle_processor.py:288] start <DoOperation write test/Write/WriteImpl/ParDo(_RoundRobinKeyFn) output_tags=['out']>\n",
            "I1206 20:57:51.593297 139684395251584 bundle_processor.py:288] start <DoOperation write train/Write/WriteImpl/ParDo(_RoundRobinKeyFn) output_tags=['out']>\n",
            "I1206 20:57:51.593753 139684395251584 bundle_processor.py:288] start <DoOperation serialize test examples output_tags=['out']>\n",
            "I1206 20:57:51.595117 139684395251584 bundle_processor.py:288] start <DoOperation serialize train examples output_tags=['out']>\n",
            "I1206 20:57:51.595972 139684395251584 bundle_processor.py:288] start <DoOperation split train and test/ParDo(_TrainTestSplitFn) output_tags=['out', u'out_train', u'out_test']>\n",
            "I1206 20:57:51.596915 139684395251584 bundle_processor.py:288] start <DoOperation get shuffled values output_tags=['out']>\n",
            "I1206 20:57:51.597557 139684395251584 bundle_processor.py:288] start <DataInputOperation group by key/Read receivers=[ConsumerSet[group by key/Read.out0, coder=WindowedValueCoder[TupleCoder[LengthPrefixCoder[FastPrimitivesCoder], IterableCoder[LengthPrefixCoder[FastPrimitivesCoder]]]], len(consumers)=1]]>\n",
            "I1206 20:57:57.010061 139684395251584 bundle_processor.py:300] finish <DataInputOperation group by key/Read receivers=[ConsumerSet[group by key/Read.out0, coder=WindowedValueCoder[TupleCoder[LengthPrefixCoder[FastPrimitivesCoder], IterableCoder[LengthPrefixCoder[FastPrimitivesCoder]]]], len(consumers)=1]]>\n",
            "I1206 20:57:57.010535 139684395251584 bundle_processor.py:300] finish <DoOperation get shuffled values output_tags=['out'], receivers=[ConsumerSet[get shuffled values.out0, coder=WindowedValueCoder[FastPrimitivesCoder], len(consumers)=1]]>\n",
            "I1206 20:57:57.010821 139684395251584 bundle_processor.py:300] finish <DoOperation split train and test/ParDo(_TrainTestSplitFn) output_tags=['out', u'out_train', u'out_test'], receivers=[ConsumerSet[split train and test/ParDo(_TrainTestSplitFn).out0, coder=WindowedValueCoder[FastPrimitivesCoder], len(consumers)=0], ConsumerSet[split train and test/ParDo(_TrainTestSplitFn).out1, coder=WindowedValueCoder[FastPrimitivesCoder], len(consumers)=1], ConsumerSet[split train and test/ParDo(_TrainTestSplitFn).out2, coder=WindowedValueCoder[FastPrimitivesCoder], len(consumers)=1]]>\n",
            "I1206 20:57:57.011019 139684395251584 bundle_processor.py:300] finish <DoOperation serialize train examples output_tags=['out'], receivers=[ConsumerSet[serialize train examples.out0, coder=WindowedValueCoder[FastPrimitivesCoder], len(consumers)=1]]>\n",
            "I1206 20:57:57.011188 139684395251584 bundle_processor.py:300] finish <DoOperation serialize test examples output_tags=['out'], receivers=[ConsumerSet[serialize test examples.out0, coder=WindowedValueCoder[FastPrimitivesCoder], len(consumers)=1]]>\n",
            "I1206 20:57:57.011368 139684395251584 bundle_processor.py:300] finish <DoOperation write train/Write/WriteImpl/ParDo(_RoundRobinKeyFn) output_tags=['out'], receivers=[ConsumerSet[write train/Write/WriteImpl/ParDo(_RoundRobinKeyFn).out0, coder=WindowedValueCoder[FastPrimitivesCoder], len(consumers)=1]]>\n",
            "I1206 20:57:57.011535 139684395251584 bundle_processor.py:300] finish <DoOperation write test/Write/WriteImpl/ParDo(_RoundRobinKeyFn) output_tags=['out'], receivers=[ConsumerSet[write test/Write/WriteImpl/ParDo(_RoundRobinKeyFn).out0, coder=WindowedValueCoder[FastPrimitivesCoder], len(consumers)=1]]>\n",
            "I1206 20:57:57.012310 139684395251584 bundle_processor.py:300] finish <DoOperation write test/Write/WriteImpl/WindowInto(WindowIntoFn) output_tags=['out'], receivers=[ConsumerSet[write test/Write/WriteImpl/WindowInto(WindowIntoFn).out0, coder=WindowedValueCoder[TupleCoder[LengthPrefixCoder[FastPrimitivesCoder], LengthPrefixCoder[FastPrimitivesCoder]]], len(consumers)=1]]>\n",
            "I1206 20:57:57.012794 139684395251584 bundle_processor.py:300] finish <DoOperation write train/Write/WriteImpl/WindowInto(WindowIntoFn) output_tags=['out'], receivers=[ConsumerSet[write train/Write/WriteImpl/WindowInto(WindowIntoFn).out0, coder=WindowedValueCoder[TupleCoder[LengthPrefixCoder[FastPrimitivesCoder], LengthPrefixCoder[FastPrimitivesCoder]]], len(consumers)=1]]>\n",
            "I1206 20:57:57.013020 139684395251584 bundle_processor.py:300] finish <DataOutputOperation write test/Write/WriteImpl/GroupByKey/Write >\n",
            "I1206 20:57:57.013190 139684395251584 bundle_processor.py:300] finish <DataOutputOperation write train/Write/WriteImpl/GroupByKey/Write >\n",
            "I1206 20:57:57.321419 139684395251584 fn_api_runner.py:905] Running ((ref_AppliedPTransform_write test/Write/WriteImpl/DoOnce/Read_34)+((ref_AppliedPTransform_write test/Write/WriteImpl/InitializeWrite_35)+(ref_PCollection_PCollection_24/Write)))+(ref_PCollection_PCollection_23/Write)\n",
            "I1206 20:57:57.328912 139684395251584 bundle_processor.py:288] start <DataOutputOperation ref_PCollection_PCollection_24/Write >\n",
            "I1206 20:57:57.329185 139684395251584 bundle_processor.py:288] start <DataOutputOperation ref_PCollection_PCollection_23/Write >\n",
            "I1206 20:57:57.329317 139684395251584 bundle_processor.py:288] start <DoOperation write test/Write/WriteImpl/InitializeWrite output_tags=['out']>\n",
            "I1206 20:57:57.330097 139684395251584 bundle_processor.py:288] start <ReadOperation write test/Write/WriteImpl/DoOnce/Read source=SourceBundle(weight=1.0, source=<apache_beam.transforms.core._CreateSource object at 0x7f0aa0730710>, start_position=None, stop_position=None)>\n",
            "I1206 20:57:57.331372 139684395251584 bundle_processor.py:300] finish <ReadOperation write test/Write/WriteImpl/DoOnce/Read source=SourceBundle(weight=1.0, source=<apache_beam.transforms.core._CreateSource object at 0x7f0aa0730710>, start_position=None, stop_position=None), receivers=[ConsumerSet[write test/Write/WriteImpl/DoOnce/Read.out0, coder=WindowedValueCoder[FastPrimitivesCoder], len(consumers)=2]]>\n",
            "I1206 20:57:57.331624 139684395251584 bundle_processor.py:300] finish <DoOperation write test/Write/WriteImpl/InitializeWrite output_tags=['out'], receivers=[ConsumerSet[write test/Write/WriteImpl/InitializeWrite.out0, coder=WindowedValueCoder[LengthPrefixCoder[FastPrimitivesCoder]], len(consumers)=1]]>\n",
            "I1206 20:57:57.332103 139684395251584 bundle_processor.py:300] finish <DataOutputOperation ref_PCollection_PCollection_23/Write >\n",
            "I1206 20:57:57.332360 139684395251584 bundle_processor.py:300] finish <DataOutputOperation ref_PCollection_PCollection_24/Write >\n",
            "I1206 20:57:57.334557 139684395251584 fn_api_runner.py:905] Running (write test/Write/WriteImpl/GroupByKey/Read)+((ref_AppliedPTransform_write test/Write/WriteImpl/WriteBundles_42)+(ref_PCollection_PCollection_30/Write))\n",
            "I1206 20:57:57.340008 139684395251584 bundle_processor.py:288] start <DataOutputOperation ref_PCollection_PCollection_30/Write >\n",
            "I1206 20:57:57.340230 139684395251584 bundle_processor.py:288] start <DoOperation write test/Write/WriteImpl/WriteBundles output_tags=['out']>\n",
            "I1206 20:57:57.340833 139684395251584 bundle_processor.py:288] start <DataInputOperation write test/Write/WriteImpl/GroupByKey/Read receivers=[ConsumerSet[write test/Write/WriteImpl/GroupByKey/Read.out0, coder=WindowedValueCoder[TupleCoder[LengthPrefixCoder[FastPrimitivesCoder], IterableCoder[LengthPrefixCoder[FastPrimitivesCoder]]]], len(consumers)=1]]>\n",
            "I1206 20:57:57.341146 139684395251584 bundle_processor.py:300] finish <DataInputOperation write test/Write/WriteImpl/GroupByKey/Read receivers=[ConsumerSet[write test/Write/WriteImpl/GroupByKey/Read.out0, coder=WindowedValueCoder[TupleCoder[LengthPrefixCoder[FastPrimitivesCoder], IterableCoder[LengthPrefixCoder[FastPrimitivesCoder]]]], len(consumers)=1]]>\n",
            "I1206 20:57:57.341353 139684395251584 bundle_processor.py:300] finish <DoOperation write test/Write/WriteImpl/WriteBundles output_tags=['out'], receivers=[ConsumerSet[write test/Write/WriteImpl/WriteBundles.out0, coder=WindowedValueCoder[LengthPrefixCoder[FastPrimitivesCoder]], len(consumers)=1]]>\n",
            "I1206 20:57:57.341572 139684395251584 bundle_processor.py:300] finish <DataOutputOperation ref_PCollection_PCollection_30/Write >\n",
            "I1206 20:57:57.343209 139684395251584 fn_api_runner.py:905] Running (ref_PCollection_PCollection_23/Read)+((ref_AppliedPTransform_write test/Write/WriteImpl/PreFinalize_43)+(ref_PCollection_PCollection_31/Write))\n",
            "I1206 20:57:57.348793 139684395251584 bundle_processor.py:288] start <DataOutputOperation ref_PCollection_PCollection_31/Write >\n",
            "I1206 20:57:57.349025 139684395251584 bundle_processor.py:288] start <DoOperation write test/Write/WriteImpl/PreFinalize output_tags=['out']>\n",
            "I1206 20:57:57.349817 139684395251584 bundle_processor.py:288] start <DataInputOperation ref_PCollection_PCollection_23/Read receivers=[ConsumerSet[ref_PCollection_PCollection_23/Read.out0, coder=WindowedValueCoder[FastPrimitivesCoder], len(consumers)=1]]>\n",
            "I1206 20:57:57.351180 139684395251584 bundle_processor.py:300] finish <DataInputOperation ref_PCollection_PCollection_23/Read receivers=[ConsumerSet[ref_PCollection_PCollection_23/Read.out0, coder=WindowedValueCoder[FastPrimitivesCoder], len(consumers)=1]]>\n",
            "I1206 20:57:57.351370 139684395251584 bundle_processor.py:300] finish <DoOperation write test/Write/WriteImpl/PreFinalize output_tags=['out'], receivers=[ConsumerSet[write test/Write/WriteImpl/PreFinalize.out0, coder=WindowedValueCoder[LengthPrefixCoder[FastPrimitivesCoder]], len(consumers)=1]]>\n",
            "I1206 20:57:57.351551 139684395251584 bundle_processor.py:300] finish <DataOutputOperation ref_PCollection_PCollection_31/Write >\n",
            "I1206 20:57:57.354398 139684395251584 fn_api_runner.py:905] Running (ref_PCollection_PCollection_23/Read)+(ref_AppliedPTransform_write test/Write/WriteImpl/FinalizeWrite_44)\n",
            "I1206 20:57:57.360790 139684395251584 bundle_processor.py:288] start <DoOperation write test/Write/WriteImpl/FinalizeWrite output_tags=['out']>\n",
            "I1206 20:57:57.361707 139684395251584 bundle_processor.py:288] start <DataInputOperation ref_PCollection_PCollection_23/Read receivers=[ConsumerSet[ref_PCollection_PCollection_23/Read.out0, coder=WindowedValueCoder[FastPrimitivesCoder], len(consumers)=1]]>\n",
            "I1206 20:57:57.437712 139684395251584 filebasedsink.py:287] Starting finalize_write threads with num_shards: 1000 (skipped: 0), batches: 1000, num_threads: 64\n",
            "I1206 20:57:57.579355 139684395251584 filebasedsink.py:324] Renamed 1000 shards in 0.14 seconds.\n",
            "I1206 20:57:57.580190 139684395251584 bundle_processor.py:300] finish <DataInputOperation ref_PCollection_PCollection_23/Read receivers=[ConsumerSet[ref_PCollection_PCollection_23/Read.out0, coder=WindowedValueCoder[FastPrimitivesCoder], len(consumers)=1]]>\n",
            "I1206 20:57:57.580490 139684395251584 bundle_processor.py:300] finish <DoOperation write test/Write/WriteImpl/FinalizeWrite output_tags=['out'], receivers=[ConsumerSet[write test/Write/WriteImpl/FinalizeWrite.out0, coder=WindowedValueCoder[FastPrimitivesCoder], len(consumers)=0]]>\n",
            "I1206 20:57:57.622535 139684395251584 fn_api_runner.py:905] Running ((ref_AppliedPTransform_write train/Write/WriteImpl/DoOnce/Read_18)+((ref_AppliedPTransform_write train/Write/WriteImpl/InitializeWrite_19)+(ref_PCollection_PCollection_13/Write)))+(ref_PCollection_PCollection_12/Write)\n",
            "I1206 20:57:57.627971 139684395251584 bundle_processor.py:288] start <DataOutputOperation ref_PCollection_PCollection_13/Write >\n",
            "I1206 20:57:57.628200 139684395251584 bundle_processor.py:288] start <DataOutputOperation ref_PCollection_PCollection_12/Write >\n",
            "I1206 20:57:57.628314 139684395251584 bundle_processor.py:288] start <DoOperation write train/Write/WriteImpl/InitializeWrite output_tags=['out']>\n",
            "I1206 20:57:57.629429 139684395251584 bundle_processor.py:288] start <ReadOperation write train/Write/WriteImpl/DoOnce/Read source=SourceBundle(weight=1.0, source=<apache_beam.transforms.core._CreateSource object at 0x7f0aa06e8590>, start_position=None, stop_position=None)>\n",
            "I1206 20:57:57.630300 139684395251584 bundle_processor.py:300] finish <ReadOperation write train/Write/WriteImpl/DoOnce/Read source=SourceBundle(weight=1.0, source=<apache_beam.transforms.core._CreateSource object at 0x7f0aa06e8590>, start_position=None, stop_position=None), receivers=[ConsumerSet[write train/Write/WriteImpl/DoOnce/Read.out0, coder=WindowedValueCoder[FastPrimitivesCoder], len(consumers)=2]]>\n",
            "I1206 20:57:57.630532 139684395251584 bundle_processor.py:300] finish <DoOperation write train/Write/WriteImpl/InitializeWrite output_tags=['out'], receivers=[ConsumerSet[write train/Write/WriteImpl/InitializeWrite.out0, coder=WindowedValueCoder[LengthPrefixCoder[FastPrimitivesCoder]], len(consumers)=1]]>\n",
            "I1206 20:57:57.630738 139684395251584 bundle_processor.py:300] finish <DataOutputOperation ref_PCollection_PCollection_12/Write >\n",
            "I1206 20:57:57.630889 139684395251584 bundle_processor.py:300] finish <DataOutputOperation ref_PCollection_PCollection_13/Write >\n",
            "I1206 20:57:57.633537 139684395251584 fn_api_runner.py:905] Running (write train/Write/WriteImpl/GroupByKey/Read)+((ref_AppliedPTransform_write train/Write/WriteImpl/WriteBundles_26)+(ref_PCollection_PCollection_19/Write))\n",
            "I1206 20:57:57.827344 139684395251584 bundle_processor.py:288] start <DataOutputOperation ref_PCollection_PCollection_19/Write >\n",
            "I1206 20:57:57.827569 139684395251584 bundle_processor.py:288] start <DoOperation write train/Write/WriteImpl/WriteBundles output_tags=['out']>\n",
            "I1206 20:57:57.828142 139684395251584 bundle_processor.py:288] start <DataInputOperation write train/Write/WriteImpl/GroupByKey/Read receivers=[ConsumerSet[write train/Write/WriteImpl/GroupByKey/Read.out0, coder=WindowedValueCoder[TupleCoder[LengthPrefixCoder[FastPrimitivesCoder], IterableCoder[LengthPrefixCoder[FastPrimitivesCoder]]]], len(consumers)=1]]>\n",
            "I1206 20:57:58.307086 139684395251584 bundle_processor.py:300] finish <DataInputOperation write train/Write/WriteImpl/GroupByKey/Read receivers=[ConsumerSet[write train/Write/WriteImpl/GroupByKey/Read.out0, coder=WindowedValueCoder[TupleCoder[LengthPrefixCoder[FastPrimitivesCoder], IterableCoder[LengthPrefixCoder[FastPrimitivesCoder]]]], len(consumers)=1]]>\n",
            "I1206 20:57:58.307451 139684395251584 bundle_processor.py:300] finish <DoOperation write train/Write/WriteImpl/WriteBundles output_tags=['out'], receivers=[ConsumerSet[write train/Write/WriteImpl/WriteBundles.out0, coder=WindowedValueCoder[LengthPrefixCoder[FastPrimitivesCoder]], len(consumers)=1]]>\n",
            "I1206 20:57:58.307682 139684395251584 bundle_processor.py:300] finish <DataOutputOperation ref_PCollection_PCollection_19/Write >\n",
            "I1206 20:57:58.376094 139684395251584 fn_api_runner.py:905] Running ((ref_PCollection_PCollection_12/Read)+(ref_AppliedPTransform_write train/Write/WriteImpl/PreFinalize_27))+(ref_PCollection_PCollection_20/Write)\n",
            "I1206 20:57:58.384841 139684395251584 bundle_processor.py:288] start <DataOutputOperation ref_PCollection_PCollection_20/Write >\n",
            "I1206 20:57:58.385086 139684395251584 bundle_processor.py:288] start <DoOperation write train/Write/WriteImpl/PreFinalize output_tags=['out']>\n",
            "I1206 20:57:58.385828 139684395251584 bundle_processor.py:288] start <DataInputOperation ref_PCollection_PCollection_12/Read receivers=[ConsumerSet[ref_PCollection_PCollection_12/Read.out0, coder=WindowedValueCoder[FastPrimitivesCoder], len(consumers)=1]]>\n",
            "I1206 20:57:58.394453 139684395251584 bundle_processor.py:300] finish <DataInputOperation ref_PCollection_PCollection_12/Read receivers=[ConsumerSet[ref_PCollection_PCollection_12/Read.out0, coder=WindowedValueCoder[FastPrimitivesCoder], len(consumers)=1]]>\n",
            "I1206 20:57:58.394784 139684395251584 bundle_processor.py:300] finish <DoOperation write train/Write/WriteImpl/PreFinalize output_tags=['out'], receivers=[ConsumerSet[write train/Write/WriteImpl/PreFinalize.out0, coder=WindowedValueCoder[LengthPrefixCoder[FastPrimitivesCoder]], len(consumers)=1]]>\n",
            "I1206 20:57:58.395026 139684395251584 bundle_processor.py:300] finish <DataOutputOperation ref_PCollection_PCollection_20/Write >\n",
            "I1206 20:57:58.397001 139684395251584 fn_api_runner.py:905] Running (ref_PCollection_PCollection_12/Read)+(ref_AppliedPTransform_write train/Write/WriteImpl/FinalizeWrite_28)\n",
            "I1206 20:57:58.406044 139684395251584 bundle_processor.py:288] start <DoOperation write train/Write/WriteImpl/FinalizeWrite output_tags=['out']>\n",
            "I1206 20:57:58.406840 139684395251584 bundle_processor.py:288] start <DataInputOperation ref_PCollection_PCollection_12/Read receivers=[ConsumerSet[ref_PCollection_PCollection_12/Read.out0, coder=WindowedValueCoder[FastPrimitivesCoder], len(consumers)=1]]>\n",
            "I1206 20:57:58.427824 139684395251584 filebasedsink.py:287] Starting finalize_write threads with num_shards: 1000 (skipped: 0), batches: 1000, num_threads: 64\n",
            "I1206 20:57:58.562410 139684395251584 filebasedsink.py:324] Renamed 1000 shards in 0.13 seconds.\n",
            "I1206 20:57:58.563178 139684395251584 bundle_processor.py:300] finish <DataInputOperation ref_PCollection_PCollection_12/Read receivers=[ConsumerSet[ref_PCollection_PCollection_12/Read.out0, coder=WindowedValueCoder[FastPrimitivesCoder], len(consumers)=1]]>\n",
            "I1206 20:57:58.563443 139684395251584 bundle_processor.py:300] finish <DoOperation write train/Write/WriteImpl/FinalizeWrite output_tags=['out'], receivers=[ConsumerSet[write train/Write/WriteImpl/FinalizeWrite.out0, coder=WindowedValueCoder[FastPrimitivesCoder], len(consumers)=0]]>\n"
          ],
          "name": "stdout"
        }
      ]
    },
    {
      "cell_type": "code",
      "metadata": {
        "id": "nsUZhl4e8SwK",
        "colab": {
          "base_uri": "https://localhost:8080/",
          "height": 440
        },
        "outputId": "5df8ac2c-bb14-45a6-bc2b-a7eb48ef8aec"
      },
      "source": [
        "from glob import glob\n",
        "import pandas as pd\n",
        "\n",
        "def remove_white_space(x):\n",
        "    return (x.encode('utf-8').replace(' .', '.')\n",
        "            .replace(' .', '.')\n",
        "            .replace(' ,', ',')\n",
        "            .replace(' ?', '?')\n",
        "            .replace('¿ ', '¿')\n",
        "            .replace(' !', '!')\n",
        "            .replace('¡ ', '¡')\n",
        "            )\n",
        "\n",
        "def jsonl_list_to_dataframe(file_list, columns=[\n",
        "        'response', 'context', 'context/0', 'context/1',\n",
        "        'context/2', 'context/3', 'context/4', 'context/5',\n",
        "        'context/6', 'context/7', 'context/8', 'context/9'\n",
        "    ]):\n",
        "    \"\"\"Load a list of jsonl.gz files into a pandas DataFrame.\"\"\"\n",
        "    return pd.concat([pd.read_json(f,\n",
        "                                   orient='records', encoding='utf-8',\n",
        "                                   lines=True)[columns]\n",
        "                      for f in file_list], sort=False)\n",
        "\n",
        "df = jsonl_list_to_dataframe(glob(\"output/train*.json\"), ).dropna()\n",
        "df = df.drop_duplicates()\n",
        "df = df.applymap(remove_white_space)\n",
        "df.head()"
      ],
      "execution_count": null,
      "outputs": [
        {
          "output_type": "execute_result",
          "data": {
            "text/plain": [
              "                                 response  ...                       context/9\n",
              "0                         Sé lo que hago.  ...        ¿Cómo te sientes, Champ?\n",
              "1        Hay un concierto en el hospital.  ...                 ¿De quién eres?\n",
              "2  Sin el dinero se irán a Junction City.  ...            Nos vemos en Denver.\n",
              "3         ¿Qué es lo que hacemos de ella.  ...  Yo no tomaría ninguna apuesta.\n",
              "4               Tengo un trabajo urgente.  ...          ¿No les ha escrito...?\n",
              "\n",
              "[5 rows x 12 columns]"
            ],
            "text/html": [
              "<div>\n",
              "<style scoped>\n",
              "    .dataframe tbody tr th:only-of-type {\n",
              "        vertical-align: middle;\n",
              "    }\n",
              "\n",
              "    .dataframe tbody tr th {\n",
              "        vertical-align: top;\n",
              "    }\n",
              "\n",
              "    .dataframe thead th {\n",
              "        text-align: right;\n",
              "    }\n",
              "</style>\n",
              "<table border=\"1\" class=\"dataframe\">\n",
              "  <thead>\n",
              "    <tr style=\"text-align: right;\">\n",
              "      <th></th>\n",
              "      <th>response</th>\n",
              "      <th>context</th>\n",
              "      <th>context/0</th>\n",
              "      <th>context/1</th>\n",
              "      <th>context/2</th>\n",
              "      <th>context/3</th>\n",
              "      <th>context/4</th>\n",
              "      <th>context/5</th>\n",
              "      <th>context/6</th>\n",
              "      <th>context/7</th>\n",
              "      <th>context/8</th>\n",
              "      <th>context/9</th>\n",
              "    </tr>\n",
              "  </thead>\n",
              "  <tbody>\n",
              "    <tr>\n",
              "      <th>0</th>\n",
              "      <td>Sé lo que hago.</td>\n",
              "      <td>Es una operación bancaria.</td>\n",
              "      <td>Esto no es apostar.</td>\n",
              "      <td>Madura y olvídate de todo eso.</td>\n",
              "      <td>Ya peleaste un título para los corredores de a...</td>\n",
              "      <td>6 a 1. $ 5.000 a la cabeza.</td>\n",
              "      <td>6 a 1 para nuestro mejor cliente.</td>\n",
              "      <td>5 a 1.</td>\n",
              "      <td>¿Qué ofrece Dancin ' Boy en la cuarta de Belmo...</td>\n",
              "      <td>No te preocupes por mí, estoy bien.</td>\n",
              "      <td>Pasé para desearte suerte.</td>\n",
              "      <td>¿Cómo te sientes, Champ?</td>\n",
              "    </tr>\n",
              "    <tr>\n",
              "      <th>1</th>\n",
              "      <td>Hay un concierto en el hospital.</td>\n",
              "      <td>¿A dónde vas tan guapo?</td>\n",
              "      <td>Boricito.</td>\n",
              "      <td>¿Cómo?</td>\n",
              "      <td>Boricito.</td>\n",
              "      <td>¿Cómo te llamas?</td>\n",
              "      <td>Tres meses y tres años.</td>\n",
              "      <td>¿Cuántos años tienes?</td>\n",
              "      <td>De Voroshilovgrado.</td>\n",
              "      <td>¿De dónde?</td>\n",
              "      <td>De mamá.</td>\n",
              "      <td>¿De quién eres?</td>\n",
              "    </tr>\n",
              "    <tr>\n",
              "      <th>2</th>\n",
              "      <td>Sin el dinero se irán a Junction City.</td>\n",
              "      <td>Estamos hundidos, señor Kimball.</td>\n",
              "      <td>¡A trabajar!</td>\n",
              "      <td>Pero si el dinero no aparece por la mañana, ¡a...</td>\n",
              "      <td>Con todo lo que hemos esperado, podemos espera...</td>\n",
              "      <td>No irás a ningún sitio con esas frescas pintar...</td>\n",
              "      <td>De eso nada.</td>\n",
              "      <td>Yo me voy ahora.</td>\n",
              "      <td>¡Nadie se va hasta que lo diga Kimball!</td>\n",
              "      <td>¡Y yo!</td>\n",
              "      <td>Yo también voy a Denver.</td>\n",
              "      <td>Nos vemos en Denver.</td>\n",
              "    </tr>\n",
              "    <tr>\n",
              "      <th>3</th>\n",
              "      <td>¿Qué es lo que hacemos de ella.</td>\n",
              "      <td>Oye, ahí está otra vez.</td>\n",
              "      <td>Es allí, entonces se ha ido!</td>\n",
              "      <td>Nunca vi un punto de esa manera.</td>\n",
              "      <td>Voy a recoger algo que el coronel, pero no tie...</td>\n",
              "      <td>Todo estaba bien!</td>\n",
              "      <td>El Clima 4 se puso en contacto con ellos a cer...</td>\n",
              "      <td>Sí, señor.</td>\n",
              "      <td>Marcó un tiempo?</td>\n",
              "      <td>Sí, señor.</td>\n",
              "      <td>Por lo tanto, el único contacto reciente que t...</td>\n",
              "      <td>Yo no tomaría ninguna apuesta.</td>\n",
              "    </tr>\n",
              "    <tr>\n",
              "      <th>4</th>\n",
              "      <td>Tengo un trabajo urgente.</td>\n",
              "      <td>Vayan ahora mismo al metro.</td>\n",
              "      <td>¡Ciudadanos, alerta aérea!</td>\n",
              "      <td>¡Ciudadanos, alerta aérea!</td>\n",
              "      <td>Iré a la fábrica militar.</td>\n",
              "      <td>¿Has decidido trabajar?</td>\n",
              "      <td>Sufre la desgracia, pero cumple tu deber.</td>\n",
              "      <td>¡Ah, esta guerra!</td>\n",
              "      <td>No.</td>\n",
              "      <td>Hay cartas?</td>\n",
              "      <td>A mi tampoco.</td>\n",
              "      <td>¿No les ha escrito...?</td>\n",
              "    </tr>\n",
              "  </tbody>\n",
              "</table>\n",
              "</div>"
            ]
          },
          "metadata": {
            "tags": []
          },
          "execution_count": 6
        }
      ]
    },
    {
      "cell_type": "code",
      "metadata": {
        "id": "4NwpFd6bOb3i",
        "colab": {
          "base_uri": "https://localhost:8080/",
          "height": 35
        },
        "outputId": "aef08fdc-1aad-4b2e-976c-5bf1e9f34037"
      },
      "source": [
        "len(df)"
      ],
      "execution_count": null,
      "outputs": [
        {
          "output_type": "execute_result",
          "data": {
            "text/plain": [
              "50468"
            ]
          },
          "metadata": {
            "tags": []
          },
          "execution_count": 7
        }
      ]
    },
    {
      "cell_type": "code",
      "metadata": {
        "id": "_ow-38mlB8bA",
        "colab": {
          "base_uri": "https://localhost:8080/",
          "height": 128
        },
        "outputId": "031646b4-c8a4-4941-cbcf-3d8329717500"
      },
      "source": [
        "from google.colab import drive\n",
        "drive.mount('/content/drive')"
      ],
      "execution_count": null,
      "outputs": [
        {
          "output_type": "stream",
          "text": [
            "Go to this URL in a browser: https://accounts.google.com/o/oauth2/auth?client_id=947318989803-6bn6qk8qdgf4n4g3pfee6491hc0brc4i.apps.googleusercontent.com&redirect_uri=urn%3aietf%3awg%3aoauth%3a2.0%3aoob&response_type=code&scope=email%20https%3a%2f%2fwww.googleapis.com%2fauth%2fdocs.test%20https%3a%2f%2fwww.googleapis.com%2fauth%2fdrive%20https%3a%2f%2fwww.googleapis.com%2fauth%2fdrive.photos.readonly%20https%3a%2f%2fwww.googleapis.com%2fauth%2fpeopleapi.readonly\n",
            "\n",
            "Enter your authorization code:\n",
            "··········\n",
            "Mounted at /content/drive\n"
          ],
          "name": "stdout"
        }
      ]
    },
    {
      "cell_type": "code",
      "metadata": {
        "id": "3YHyiNlaGFpr"
      },
      "source": [
        "df.to_csv('/content/drive/My Drive/data/final_es_conv.csv', index = False, encoding = 'utf-8')"
      ],
      "execution_count": null,
      "outputs": []
    },
    {
      "cell_type": "code",
      "metadata": {
        "id": "y00RekyPPFnb"
      },
      "source": [],
      "execution_count": null,
      "outputs": []
    }
  ]
}